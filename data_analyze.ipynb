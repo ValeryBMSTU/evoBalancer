{
 "cells": [
  {
   "cell_type": "code",
   "execution_count": 49,
   "id": "76215896",
   "metadata": {},
   "outputs": [],
   "source": [
    "import json\n",
    "import pandas as pd \n",
    "import numpy as np \n",
    "import matplotlib.pyplot as plt \n",
    "from sklearn.linear_model import LinearRegression\n",
    "%matplotlib inline"
   ]
  },
  {
   "cell_type": "code",
   "execution_count": 50,
   "id": "e44d485c",
   "metadata": {},
   "outputs": [
    {
     "name": "stdout",
     "output_type": "stream",
     "text": [
      "{'execute_time': [27, 30, 20, 18, 52, 63, 33, 27, 97, 122, 95, 111, 98, 123], 'memory_use': [345, 405, 670, 500, 199, 201, 259, 292, 320, 320, 280, 780, 670, 695]}\n",
      "\n",
      "{'node-2': [0, 0, 1, 1, 0, 0, 1, 1, 0, 0, 0, 0, 0, 0], 'node-3': [0, 0, 0, 0, 0, 0, 0, 0, 1, 1, 1, 1, 1, 1], 'edp-2': [0, 0, 0, 0, 1, 1, 1, 1, 0, 0, 0, 1, 1, 1], 'request_size': [122, 122, 122, 123, 180, 93, 101, 100, 100, 244, 160, 226, 210, 213]}\n"
     ]
    }
   ],
   "source": [
    "Y = {}\n",
    "X = {}\n",
    "\n",
    "with open('./data/timeline.json') as f:\n",
    "    data = json.load(f)\n",
    "    for req in data:\n",
    "        results = req[\"results\"]\n",
    "        metrics = req[\"metrics\"]\n",
    "        \n",
    "        for key in results:\n",
    "            if key not in Y.keys():\n",
    "                Y[key] = []\n",
    "            Y[key].append(results[key])\n",
    "        \n",
    "        categorials = metrics[\"categorials\"]\n",
    "        for key in categorials:\n",
    "            if key not in X.keys():\n",
    "                X[key] = []\n",
    "            X[key].append(categorials[key])\n",
    "            \n",
    "        numerics = metrics[\"numerics\"]\n",
    "        for key in numerics:\n",
    "            if key not in X.keys():\n",
    "                X[key] = []\n",
    "            X[key].append(numerics[key])\n",
    "            \n",
    "print(Y)\n",
    "print()\n",
    "print(X)"
   ]
  },
  {
   "cell_type": "code",
   "execution_count": 51,
   "id": "8e9b19ef",
   "metadata": {},
   "outputs": [],
   "source": [
    "# for key in X:\n",
    "#     metrica = X[key]\n",
    "#     if len(metrica) > 0 and type(metrica[0]) == str:\n",
    "#         print(\"Категориальная переменная\", key)\n",
    "#         categorials = []\n",
    "#         for v in metrica:\n",
    "#             if v not in categorials:\n",
    "#                 categorials.append(v)\n",
    "#         print(\"Число категорий \", len(categorials))\n",
    "#         if len(categorial) > 1:\n",
    "            \n",
    "\n",
    "    \n",
    "\n"
   ]
  },
  {
   "cell_type": "code",
   "execution_count": 52,
   "id": "5356586a",
   "metadata": {},
   "outputs": [
    {
     "data": {
      "text/html": [
       "<div>\n",
       "<style scoped>\n",
       "    .dataframe tbody tr th:only-of-type {\n",
       "        vertical-align: middle;\n",
       "    }\n",
       "\n",
       "    .dataframe tbody tr th {\n",
       "        vertical-align: top;\n",
       "    }\n",
       "\n",
       "    .dataframe thead th {\n",
       "        text-align: right;\n",
       "    }\n",
       "</style>\n",
       "<table border=\"1\" class=\"dataframe\">\n",
       "  <thead>\n",
       "    <tr style=\"text-align: right;\">\n",
       "      <th></th>\n",
       "      <th>execute_time</th>\n",
       "      <th>memory_use</th>\n",
       "      <th>node-2</th>\n",
       "      <th>node-3</th>\n",
       "      <th>edp-2</th>\n",
       "      <th>request_size</th>\n",
       "    </tr>\n",
       "  </thead>\n",
       "  <tbody>\n",
       "    <tr>\n",
       "      <th>0</th>\n",
       "      <td>27</td>\n",
       "      <td>345</td>\n",
       "      <td>0</td>\n",
       "      <td>0</td>\n",
       "      <td>0</td>\n",
       "      <td>122</td>\n",
       "    </tr>\n",
       "    <tr>\n",
       "      <th>1</th>\n",
       "      <td>30</td>\n",
       "      <td>405</td>\n",
       "      <td>0</td>\n",
       "      <td>0</td>\n",
       "      <td>0</td>\n",
       "      <td>122</td>\n",
       "    </tr>\n",
       "    <tr>\n",
       "      <th>2</th>\n",
       "      <td>20</td>\n",
       "      <td>670</td>\n",
       "      <td>1</td>\n",
       "      <td>0</td>\n",
       "      <td>0</td>\n",
       "      <td>122</td>\n",
       "    </tr>\n",
       "    <tr>\n",
       "      <th>3</th>\n",
       "      <td>18</td>\n",
       "      <td>500</td>\n",
       "      <td>1</td>\n",
       "      <td>0</td>\n",
       "      <td>0</td>\n",
       "      <td>123</td>\n",
       "    </tr>\n",
       "    <tr>\n",
       "      <th>4</th>\n",
       "      <td>52</td>\n",
       "      <td>199</td>\n",
       "      <td>0</td>\n",
       "      <td>0</td>\n",
       "      <td>1</td>\n",
       "      <td>180</td>\n",
       "    </tr>\n",
       "    <tr>\n",
       "      <th>5</th>\n",
       "      <td>63</td>\n",
       "      <td>201</td>\n",
       "      <td>0</td>\n",
       "      <td>0</td>\n",
       "      <td>1</td>\n",
       "      <td>93</td>\n",
       "    </tr>\n",
       "    <tr>\n",
       "      <th>6</th>\n",
       "      <td>33</td>\n",
       "      <td>259</td>\n",
       "      <td>1</td>\n",
       "      <td>0</td>\n",
       "      <td>1</td>\n",
       "      <td>101</td>\n",
       "    </tr>\n",
       "    <tr>\n",
       "      <th>7</th>\n",
       "      <td>27</td>\n",
       "      <td>292</td>\n",
       "      <td>1</td>\n",
       "      <td>0</td>\n",
       "      <td>1</td>\n",
       "      <td>100</td>\n",
       "    </tr>\n",
       "    <tr>\n",
       "      <th>8</th>\n",
       "      <td>97</td>\n",
       "      <td>320</td>\n",
       "      <td>0</td>\n",
       "      <td>1</td>\n",
       "      <td>0</td>\n",
       "      <td>100</td>\n",
       "    </tr>\n",
       "    <tr>\n",
       "      <th>9</th>\n",
       "      <td>122</td>\n",
       "      <td>320</td>\n",
       "      <td>0</td>\n",
       "      <td>1</td>\n",
       "      <td>0</td>\n",
       "      <td>244</td>\n",
       "    </tr>\n",
       "    <tr>\n",
       "      <th>10</th>\n",
       "      <td>95</td>\n",
       "      <td>280</td>\n",
       "      <td>0</td>\n",
       "      <td>1</td>\n",
       "      <td>0</td>\n",
       "      <td>160</td>\n",
       "    </tr>\n",
       "    <tr>\n",
       "      <th>11</th>\n",
       "      <td>111</td>\n",
       "      <td>780</td>\n",
       "      <td>0</td>\n",
       "      <td>1</td>\n",
       "      <td>1</td>\n",
       "      <td>226</td>\n",
       "    </tr>\n",
       "    <tr>\n",
       "      <th>12</th>\n",
       "      <td>98</td>\n",
       "      <td>670</td>\n",
       "      <td>0</td>\n",
       "      <td>1</td>\n",
       "      <td>1</td>\n",
       "      <td>210</td>\n",
       "    </tr>\n",
       "    <tr>\n",
       "      <th>13</th>\n",
       "      <td>123</td>\n",
       "      <td>695</td>\n",
       "      <td>0</td>\n",
       "      <td>1</td>\n",
       "      <td>1</td>\n",
       "      <td>213</td>\n",
       "    </tr>\n",
       "  </tbody>\n",
       "</table>\n",
       "</div>"
      ],
      "text/plain": [
       "    execute_time  memory_use  node-2  node-3  edp-2  request_size\n",
       "0             27         345       0       0      0           122\n",
       "1             30         405       0       0      0           122\n",
       "2             20         670       1       0      0           122\n",
       "3             18         500       1       0      0           123\n",
       "4             52         199       0       0      1           180\n",
       "5             63         201       0       0      1            93\n",
       "6             33         259       1       0      1           101\n",
       "7             27         292       1       0      1           100\n",
       "8             97         320       0       1      0           100\n",
       "9            122         320       0       1      0           244\n",
       "10            95         280       0       1      0           160\n",
       "11           111         780       0       1      1           226\n",
       "12            98         670       0       1      1           210\n",
       "13           123         695       0       1      1           213"
      ]
     },
     "execution_count": 52,
     "metadata": {},
     "output_type": "execute_result"
    }
   ],
   "source": [
    "XY = {}\n",
    "\n",
    "for key in Y.keys():\n",
    "    XY[key] = Y[key]\n",
    "\n",
    "for key in X.keys():\n",
    "    XY[key] = X[key]\n",
    "    \n",
    "df = pd.DataFrame(XY)\n",
    "df"
   ]
  },
  {
   "cell_type": "code",
   "execution_count": 53,
   "id": "f97ea5d7",
   "metadata": {},
   "outputs": [
    {
     "data": {
      "text/plain": [
       "LinearRegression()"
      ]
     },
     "execution_count": 53,
     "metadata": {},
     "output_type": "execute_result"
    }
   ],
   "source": [
    "X = pd.DataFrame(X)\n",
    "Y = pd.DataFrame(Y)\n",
    "\n",
    "regressor = LinearRegression()\n",
    "regressor.fit(X, Y)"
   ]
  },
  {
   "cell_type": "code",
   "execution_count": 54,
   "id": "0e8d3570",
   "metadata": {},
   "outputs": [
    {
     "name": "stdout",
     "output_type": "stream",
     "text": [
      "0\n",
      "execute_time\n",
      "1\n",
      "memory_use\n"
     ]
    }
   ],
   "source": [
    "for i, v in enumerate(Y.columns):\n",
    "    print(i)\n",
    "    print(v)"
   ]
  },
  {
   "cell_type": "code",
   "execution_count": 55,
   "id": "85fffd84",
   "metadata": {},
   "outputs": [
    {
     "data": {
      "text/plain": [
       "array([27.82087639, 44.19621851])"
      ]
     },
     "execution_count": 55,
     "metadata": {},
     "output_type": "execute_result"
    }
   ],
   "source": [
    "regressor.intercept_"
   ]
  },
  {
   "cell_type": "code",
   "execution_count": 56,
   "id": "8fa83f0b",
   "metadata": {},
   "outputs": [
    {
     "name": "stdout",
     "output_type": "stream",
     "text": [
      "{'execute_time': {'node-2': -17.28981112411329, 'node-3': 60.37703004087302, 'edp-2': 12.733806407523524, 'request_size': 0.06817965497947959, 'base': 27.820876390140832}, 'memory_use': {'node-2': 176.0438313189002, 'node-3': 105.31998757854984, 'edp-2': 1.7368364470270123, 'request_size': 1.8757088066985852, 'base': 44.19621851069326}}\n"
     ]
    }
   ],
   "source": [
    "result = {}\n",
    "\n",
    "for i, v in enumerate(Y.columns):\n",
    "    coeffs = {}\n",
    "    for i2, v2 in enumerate(X.columns):\n",
    "        coeffs[v2] = regressor.coef_[i][i2]\n",
    "    coeffs[\"base\"] = regressor.intercept_[i]\n",
    "    result[v] = coeffs\n",
    "    \n",
    "print(result)\n",
    "\n"
   ]
  },
  {
   "cell_type": "code",
   "execution_count": 57,
   "id": "0f882506",
   "metadata": {},
   "outputs": [],
   "source": [
    "with open('./data/coef.json', 'w') as fp:\n",
    "    json.dump(result, fp)"
   ]
  },
  {
   "cell_type": "code",
   "execution_count": null,
   "id": "8a1d3fcf",
   "metadata": {},
   "outputs": [],
   "source": []
  }
 ],
 "metadata": {
  "kernelspec": {
   "display_name": "Python 3",
   "language": "python",
   "name": "python3"
  },
  "language_info": {
   "codemirror_mode": {
    "name": "ipython",
    "version": 3
   },
   "file_extension": ".py",
   "mimetype": "text/x-python",
   "name": "python",
   "nbconvert_exporter": "python",
   "pygments_lexer": "ipython3",
   "version": "3.8.5"
  }
 },
 "nbformat": 4,
 "nbformat_minor": 5
}
