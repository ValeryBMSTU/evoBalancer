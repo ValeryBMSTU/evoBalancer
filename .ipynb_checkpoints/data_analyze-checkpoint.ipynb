{
 "cells": [
  {
   "cell_type": "code",
   "execution_count": 3,
   "id": "581a7d39",
   "metadata": {},
   "outputs": [],
   "source": [
    "import json\n",
    "import pandas as pd \n",
    "import numpy as np \n",
    "import matplotlib.pyplot as plt \n",
    "%matplotlib inline"
   ]
  },
  {
   "cell_type": "code",
   "execution_count": 7,
   "id": "1ae2bf67",
   "metadata": {},
   "outputs": [
    {
     "name": "stdout",
     "output_type": "stream",
     "text": [
      "{'execute_time': [27, 30, 20, 18, 52, 63, 33, 27], 'memory_use': [345, 405, 670, 500, 199, 201, 259, 292]}\n",
      "\n",
      "{'node_id': ['NODE-1', 'NODE-1', 'NODE-2', 'NODE-2', 'NODE-1', 'NODE-1', 'NODE-2', 'NODE-2'], 'edp_id': ['EDP-1', 'EDP-1', 'EDP-1', 'EDP-1', 'EDP-2', 'EDP-2', 'EDP-2', 'EDP-2'], 'request_size': [122, 122, 122, 123, 180, 93, 101, 100]}\n"
     ]
    }
   ],
   "source": [
    "Y = {}\n",
    "X = {}\n",
    "\n",
    "with open('./data/timeline.json') as f:\n",
    "    data = json.load(f)\n",
    "    for req in data:\n",
    "        results = req[\"results\"]\n",
    "        metrics = req[\"metrics\"]\n",
    "        for key in results:\n",
    "            if key not in Y.keys():\n",
    "                Y[key] = []\n",
    "            Y[key].append(results[key])\n",
    "        for key in metrics:\n",
    "            if key not in X.keys():\n",
    "                X[key] = []\n",
    "            X[key].append(metrics[key])\n",
    "            \n",
    "print(Y)\n",
    "print()\n",
    "print(X)"
   ]
  },
  {
   "cell_type": "code",
   "execution_count": 11,
   "id": "5256c08a",
   "metadata": {},
   "outputs": [
    {
     "name": "stdout",
     "output_type": "stream",
     "text": [
      "Категориальная переменная node_id\n",
      "Число категорий  2\n",
      "Категориальная переменная edp_id\n",
      "Число категорий  2\n"
     ]
    }
   ],
   "source": [
    "for key in X:\n",
    "    metrica = X[key]\n",
    "    if len(metrica) > 0 and type(metrica[0]) == str:\n",
    "        print(\"Категориальная переменная\", key)\n",
    "        categorials = []\n",
    "        for v in metrica:\n",
    "            if v not in categorials:\n",
    "                categorials.append(v)\n",
    "        print(\"Число категорий \", len(categorials))\n",
    "        if len(categorial) > 1:\n",
    "            "
   ]
  },
  {
   "cell_type": "code",
   "execution_count": null,
   "id": "ad422c70",
   "metadata": {},
   "outputs": [],
   "source": []
  }
 ],
 "metadata": {
  "kernelspec": {
   "display_name": "Python 3",
   "language": "python",
   "name": "python3"
  },
  "language_info": {
   "codemirror_mode": {
    "name": "ipython",
    "version": 3
   },
   "file_extension": ".py",
   "mimetype": "text/x-python",
   "name": "python",
   "nbconvert_exporter": "python",
   "pygments_lexer": "ipython3",
   "version": "3.8.5"
  }
 },
 "nbformat": 4,
 "nbformat_minor": 5
}
